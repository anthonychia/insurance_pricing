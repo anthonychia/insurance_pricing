{
 "cells": [
  {
   "cell_type": "markdown",
   "metadata": {},
   "source": [
    "# Marshmallow tech test\n",
    "by Chung Lim (Anthony) 02/10/2020"
   ]
  },
  {
   "cell_type": "code",
   "execution_count": 1,
   "metadata": {},
   "outputs": [],
   "source": [
    "import pandas as pd\n",
    "import numpy as np\n",
    "import seaborn as sns\n",
    "import matplotlib.pyplot as plt"
   ]
  },
  {
   "cell_type": "markdown",
   "metadata": {},
   "source": [
    "## Data Exploration"
   ]
  },
  {
   "cell_type": "code",
   "execution_count": 2,
   "metadata": {},
   "outputs": [],
   "source": [
    "# reading data files\n",
    "prices = pd.read_csv('quote_prices.csv')\n",
    "postcode_data = pd.read_csv('postcode_sector_data.csv')\n",
    "authority_data = pd.read_csv('local_authority_data.csv')\n",
    "\n",
    "# Use open source accident data from https://roadtraffic.dft.gov.uk/\n",
    "accident_data = pd.read_csv('accident_data.csv')"
   ]
  },
  {
   "cell_type": "code",
   "execution_count": 3,
   "metadata": {},
   "outputs": [
    {
     "data": {
      "text/html": [
       "<div>\n",
       "<style scoped>\n",
       "    .dataframe tbody tr th:only-of-type {\n",
       "        vertical-align: middle;\n",
       "    }\n",
       "\n",
       "    .dataframe tbody tr th {\n",
       "        vertical-align: top;\n",
       "    }\n",
       "\n",
       "    .dataframe thead th {\n",
       "        text-align: right;\n",
       "    }\n",
       "</style>\n",
       "<table border=\"1\" class=\"dataframe\">\n",
       "  <thead>\n",
       "    <tr style=\"text-align: right;\">\n",
       "      <th></th>\n",
       "      <th>postcode</th>\n",
       "      <th>premium_price</th>\n",
       "    </tr>\n",
       "  </thead>\n",
       "  <tbody>\n",
       "    <tr>\n",
       "      <th>0</th>\n",
       "      <td>B975BQ</td>\n",
       "      <td>324.58</td>\n",
       "    </tr>\n",
       "    <tr>\n",
       "      <th>1</th>\n",
       "      <td>UB33PN</td>\n",
       "      <td>3245.06</td>\n",
       "    </tr>\n",
       "    <tr>\n",
       "      <th>2</th>\n",
       "      <td>RH149XP</td>\n",
       "      <td>197.84</td>\n",
       "    </tr>\n",
       "    <tr>\n",
       "      <th>3</th>\n",
       "      <td>W130AG</td>\n",
       "      <td>1253.53</td>\n",
       "    </tr>\n",
       "    <tr>\n",
       "      <th>4</th>\n",
       "      <td>M145DT</td>\n",
       "      <td>514.05</td>\n",
       "    </tr>\n",
       "  </tbody>\n",
       "</table>\n",
       "</div>"
      ],
      "text/plain": [
       "  postcode  premium_price\n",
       "0   B975BQ         324.58\n",
       "1   UB33PN        3245.06\n",
       "2  RH149XP         197.84\n",
       "3   W130AG        1253.53\n",
       "4   M145DT         514.05"
      ]
     },
     "execution_count": 3,
     "metadata": {},
     "output_type": "execute_result"
    }
   ],
   "source": [
    "# quick sense check of the data\n",
    "prices.head()"
   ]
  },
  {
   "cell_type": "code",
   "execution_count": 4,
   "metadata": {},
   "outputs": [
    {
     "data": {
      "text/html": [
       "<div>\n",
       "<style scoped>\n",
       "    .dataframe tbody tr th:only-of-type {\n",
       "        vertical-align: middle;\n",
       "    }\n",
       "\n",
       "    .dataframe tbody tr th {\n",
       "        vertical-align: top;\n",
       "    }\n",
       "\n",
       "    .dataframe thead th {\n",
       "        text-align: right;\n",
       "    }\n",
       "</style>\n",
       "<table border=\"1\" class=\"dataframe\">\n",
       "  <thead>\n",
       "    <tr style=\"text-align: right;\">\n",
       "      <th></th>\n",
       "      <th>postcode_sector</th>\n",
       "      <th>relative_area</th>\n",
       "      <th>population_density</th>\n",
       "      <th>multiple_deprivation_index</th>\n",
       "      <th>income_deprivation_index</th>\n",
       "      <th>employment_deprivation_index</th>\n",
       "      <th>crime_deprivation_index</th>\n",
       "      <th>rural_urban</th>\n",
       "      <th>distance_to_station</th>\n",
       "      <th>never_worked</th>\n",
       "      <th>region</th>\n",
       "    </tr>\n",
       "  </thead>\n",
       "  <tbody>\n",
       "    <tr>\n",
       "      <th>0</th>\n",
       "      <td>AB101</td>\n",
       "      <td>1354.03</td>\n",
       "      <td>53.819802</td>\n",
       "      <td>16.748</td>\n",
       "      <td>0.105</td>\n",
       "      <td>0.091</td>\n",
       "      <td>-0.028</td>\n",
       "      <td>Large urban area</td>\n",
       "      <td>0.829961</td>\n",
       "      <td>Average</td>\n",
       "      <td>Scotland</td>\n",
       "    </tr>\n",
       "    <tr>\n",
       "      <th>1</th>\n",
       "      <td>AB106</td>\n",
       "      <td>458.99</td>\n",
       "      <td>86.465844</td>\n",
       "      <td>16.748</td>\n",
       "      <td>0.105</td>\n",
       "      <td>0.091</td>\n",
       "      <td>-0.028</td>\n",
       "      <td>Large urban area</td>\n",
       "      <td>1.609040</td>\n",
       "      <td>Average</td>\n",
       "      <td>Scotland</td>\n",
       "    </tr>\n",
       "    <tr>\n",
       "      <th>2</th>\n",
       "      <td>AB107</td>\n",
       "      <td>1053.10</td>\n",
       "      <td>55.795067</td>\n",
       "      <td>16.748</td>\n",
       "      <td>0.105</td>\n",
       "      <td>0.091</td>\n",
       "      <td>-0.028</td>\n",
       "      <td>Large urban area</td>\n",
       "      <td>2.899283</td>\n",
       "      <td>Average</td>\n",
       "      <td>Scotland</td>\n",
       "    </tr>\n",
       "    <tr>\n",
       "      <th>3</th>\n",
       "      <td>AB115</td>\n",
       "      <td>2317.54</td>\n",
       "      <td>60.742963</td>\n",
       "      <td>16.748</td>\n",
       "      <td>0.105</td>\n",
       "      <td>0.091</td>\n",
       "      <td>-0.028</td>\n",
       "      <td>Large urban area</td>\n",
       "      <td>0.773404</td>\n",
       "      <td>Average</td>\n",
       "      <td>Scotland</td>\n",
       "    </tr>\n",
       "    <tr>\n",
       "      <th>4</th>\n",
       "      <td>AB116</td>\n",
       "      <td>918.22</td>\n",
       "      <td>95.784434</td>\n",
       "      <td>16.748</td>\n",
       "      <td>0.105</td>\n",
       "      <td>0.091</td>\n",
       "      <td>-0.028</td>\n",
       "      <td>Large urban area</td>\n",
       "      <td>0.533438</td>\n",
       "      <td>Average</td>\n",
       "      <td>Scotland</td>\n",
       "    </tr>\n",
       "  </tbody>\n",
       "</table>\n",
       "</div>"
      ],
      "text/plain": [
       "  postcode_sector  relative_area  population_density  \\\n",
       "0           AB101        1354.03           53.819802   \n",
       "1           AB106         458.99           86.465844   \n",
       "2           AB107        1053.10           55.795067   \n",
       "3           AB115        2317.54           60.742963   \n",
       "4           AB116         918.22           95.784434   \n",
       "\n",
       "   multiple_deprivation_index  income_deprivation_index  \\\n",
       "0                      16.748                     0.105   \n",
       "1                      16.748                     0.105   \n",
       "2                      16.748                     0.105   \n",
       "3                      16.748                     0.105   \n",
       "4                      16.748                     0.105   \n",
       "\n",
       "   employment_deprivation_index  crime_deprivation_index       rural_urban  \\\n",
       "0                         0.091                   -0.028  Large urban area   \n",
       "1                         0.091                   -0.028  Large urban area   \n",
       "2                         0.091                   -0.028  Large urban area   \n",
       "3                         0.091                   -0.028  Large urban area   \n",
       "4                         0.091                   -0.028  Large urban area   \n",
       "\n",
       "   distance_to_station never_worked    region  \n",
       "0             0.829961      Average  Scotland  \n",
       "1             1.609040      Average  Scotland  \n",
       "2             2.899283      Average  Scotland  \n",
       "3             0.773404      Average  Scotland  \n",
       "4             0.533438      Average  Scotland  "
      ]
     },
     "execution_count": 4,
     "metadata": {},
     "output_type": "execute_result"
    }
   ],
   "source": [
    "postcode_data.head()"
   ]
  },
  {
   "cell_type": "code",
   "execution_count": 5,
   "metadata": {},
   "outputs": [
    {
     "data": {
      "text/html": [
       "<div>\n",
       "<style scoped>\n",
       "    .dataframe tbody tr th:only-of-type {\n",
       "        vertical-align: middle;\n",
       "    }\n",
       "\n",
       "    .dataframe tbody tr th {\n",
       "        vertical-align: top;\n",
       "    }\n",
       "\n",
       "    .dataframe thead th {\n",
       "        text-align: right;\n",
       "    }\n",
       "</style>\n",
       "<table border=\"1\" class=\"dataframe\">\n",
       "  <thead>\n",
       "    <tr style=\"text-align: right;\">\n",
       "      <th></th>\n",
       "      <th>postcode_sector</th>\n",
       "      <th>road_usage</th>\n",
       "      <th>total_offences</th>\n",
       "      <th>vehicle_offences</th>\n",
       "    </tr>\n",
       "  </thead>\n",
       "  <tbody>\n",
       "    <tr>\n",
       "      <th>0</th>\n",
       "      <td>DL11</td>\n",
       "      <td>566.0</td>\n",
       "      <td>12666.0</td>\n",
       "      <td>703.0</td>\n",
       "    </tr>\n",
       "    <tr>\n",
       "      <th>1</th>\n",
       "      <td>DL12</td>\n",
       "      <td>566.0</td>\n",
       "      <td>12666.0</td>\n",
       "      <td>703.0</td>\n",
       "    </tr>\n",
       "    <tr>\n",
       "      <th>2</th>\n",
       "      <td>DL13</td>\n",
       "      <td>566.0</td>\n",
       "      <td>12666.0</td>\n",
       "      <td>703.0</td>\n",
       "    </tr>\n",
       "    <tr>\n",
       "      <th>3</th>\n",
       "      <td>DL14</td>\n",
       "      <td>566.0</td>\n",
       "      <td>12666.0</td>\n",
       "      <td>703.0</td>\n",
       "    </tr>\n",
       "    <tr>\n",
       "      <th>4</th>\n",
       "      <td>DL15</td>\n",
       "      <td>566.0</td>\n",
       "      <td>12666.0</td>\n",
       "      <td>703.0</td>\n",
       "    </tr>\n",
       "  </tbody>\n",
       "</table>\n",
       "</div>"
      ],
      "text/plain": [
       "  postcode_sector road_usage  total_offences  vehicle_offences\n",
       "0            DL11      566.0         12666.0             703.0\n",
       "1            DL12      566.0         12666.0             703.0\n",
       "2            DL13      566.0         12666.0             703.0\n",
       "3            DL14      566.0         12666.0             703.0\n",
       "4            DL15      566.0         12666.0             703.0"
      ]
     },
     "execution_count": 5,
     "metadata": {},
     "output_type": "execute_result"
    }
   ],
   "source": [
    "authority_data.head()"
   ]
  },
  {
   "cell_type": "code",
   "execution_count": 6,
   "metadata": {},
   "outputs": [
    {
     "data": {
      "text/html": [
       "<div>\n",
       "<style scoped>\n",
       "    .dataframe tbody tr th:only-of-type {\n",
       "        vertical-align: middle;\n",
       "    }\n",
       "\n",
       "    .dataframe tbody tr th {\n",
       "        vertical-align: top;\n",
       "    }\n",
       "\n",
       "    .dataframe thead th {\n",
       "        text-align: right;\n",
       "    }\n",
       "</style>\n",
       "<table border=\"1\" class=\"dataframe\">\n",
       "  <thead>\n",
       "    <tr style=\"text-align: right;\">\n",
       "      <th></th>\n",
       "      <th>Accident year</th>\n",
       "      <th>Region</th>\n",
       "      <th>Ons code</th>\n",
       "      <th>Urban rural</th>\n",
       "      <th>Road class</th>\n",
       "      <th>Light condition</th>\n",
       "      <th>Weather condition</th>\n",
       "      <th>All accidents</th>\n",
       "    </tr>\n",
       "  </thead>\n",
       "  <tbody>\n",
       "    <tr>\n",
       "      <th>0</th>\n",
       "      <td>2015</td>\n",
       "      <td>North East</td>\n",
       "      <td>E12000001</td>\n",
       "      <td>Urban</td>\n",
       "      <td>A(M)</td>\n",
       "      <td>Daylight</td>\n",
       "      <td>Fine no high winds</td>\n",
       "      <td>13</td>\n",
       "    </tr>\n",
       "    <tr>\n",
       "      <th>1</th>\n",
       "      <td>2015</td>\n",
       "      <td>North East</td>\n",
       "      <td>E12000001</td>\n",
       "      <td>Urban</td>\n",
       "      <td>A(M)</td>\n",
       "      <td>Darkness - lights lit</td>\n",
       "      <td>Fine no high winds</td>\n",
       "      <td>11</td>\n",
       "    </tr>\n",
       "    <tr>\n",
       "      <th>2</th>\n",
       "      <td>2015</td>\n",
       "      <td>North East</td>\n",
       "      <td>E12000001</td>\n",
       "      <td>Urban</td>\n",
       "      <td>A(M)</td>\n",
       "      <td>Darkness - lights lit</td>\n",
       "      <td>Raining + high winds</td>\n",
       "      <td>2</td>\n",
       "    </tr>\n",
       "    <tr>\n",
       "      <th>3</th>\n",
       "      <td>2015</td>\n",
       "      <td>North East</td>\n",
       "      <td>E12000001</td>\n",
       "      <td>Urban</td>\n",
       "      <td>A(M)</td>\n",
       "      <td>Darkness - no lighting</td>\n",
       "      <td>Fine no high winds</td>\n",
       "      <td>1</td>\n",
       "    </tr>\n",
       "    <tr>\n",
       "      <th>4</th>\n",
       "      <td>2015</td>\n",
       "      <td>North East</td>\n",
       "      <td>E12000001</td>\n",
       "      <td>Urban</td>\n",
       "      <td>A(M)</td>\n",
       "      <td>Darkness - lighting unknown</td>\n",
       "      <td>Fine no high winds</td>\n",
       "      <td>2</td>\n",
       "    </tr>\n",
       "  </tbody>\n",
       "</table>\n",
       "</div>"
      ],
      "text/plain": [
       "   Accident year      Region   Ons code Urban rural Road class  \\\n",
       "0           2015  North East  E12000001       Urban       A(M)   \n",
       "1           2015  North East  E12000001       Urban       A(M)   \n",
       "2           2015  North East  E12000001       Urban       A(M)   \n",
       "3           2015  North East  E12000001       Urban       A(M)   \n",
       "4           2015  North East  E12000001       Urban       A(M)   \n",
       "\n",
       "               Light condition     Weather condition  All accidents  \n",
       "0                     Daylight    Fine no high winds             13  \n",
       "1        Darkness - lights lit    Fine no high winds             11  \n",
       "2        Darkness - lights lit  Raining + high winds              2  \n",
       "3       Darkness - no lighting    Fine no high winds              1  \n",
       "4  Darkness - lighting unknown    Fine no high winds              2  "
      ]
     },
     "execution_count": 6,
     "metadata": {},
     "output_type": "execute_result"
    }
   ],
   "source": [
    "accident_data.head()"
   ]
  },
  {
   "cell_type": "markdown",
   "metadata": {},
   "source": [
    "Firstly, let's start with *prices* dataset. "
   ]
  },
  {
   "cell_type": "code",
   "execution_count": 7,
   "metadata": {},
   "outputs": [
    {
     "data": {
      "text/plain": [
       "990814"
      ]
     },
     "execution_count": 7,
     "metadata": {},
     "output_type": "execute_result"
    }
   ],
   "source": [
    "# trim the postcode to postcode sector.\n",
    "prices['postcode_sector'] = prices['postcode'].str[:-2]\n",
    "\n",
    "# count number of duplicates in postcode sector\n",
    "prices['postcode_sector'].duplicated().sum()"
   ]
  },
  {
   "cell_type": "markdown",
   "metadata": {},
   "source": [
    "As expected, there are some duplicates in *prices* data. Let's group those postcode sectors together and take the average prices. "
   ]
  },
  {
   "cell_type": "code",
   "execution_count": 8,
   "metadata": {},
   "outputs": [],
   "source": [
    "# group by postcode_sector in prices data\n",
    "postcode_prices = prices.groupby(['postcode_sector']).mean().reset_index()"
   ]
  },
  {
   "cell_type": "markdown",
   "metadata": {},
   "source": [
    "Moving on to *accident* data. This is download from gov website. It contains number of accidents in different regions from 2015 to 2019. We shall just use 2019 accident data for now since it is the latest we have."
   ]
  },
  {
   "cell_type": "code",
   "execution_count": 9,
   "metadata": {},
   "outputs": [],
   "source": [
    "# group by year and region to get total number of accidents.\n",
    "accident_data = accident_data.groupby(['Accident year', 'Region']).sum().reset_index()\n",
    "\n",
    "# Use the latest year 2019 data\n",
    "accident_data = accident_data.loc[accident_data['Accident year'] == 2019, ['Region', 'All accidents']]\n",
    "accident_data.rename(columns={'All accidents': 'total_accidents', 'Region': 'region'}, inplace=True)"
   ]
  },
  {
   "cell_type": "code",
   "execution_count": 10,
   "metadata": {},
   "outputs": [],
   "source": [
    "# merge postcode dataset with accident data because there's a common key.\n",
    "postcode_data = postcode_data.merge(accident_data)"
   ]
  },
  {
   "cell_type": "markdown",
   "metadata": {},
   "source": [
    "Let's check *authority* data."
   ]
  },
  {
   "cell_type": "code",
   "execution_count": 11,
   "metadata": {},
   "outputs": [
    {
     "data": {
      "text/plain": [
       "postcode_sector      object\n",
       "road_usage           object\n",
       "total_offences      float64\n",
       "vehicle_offences    float64\n",
       "dtype: object"
      ]
     },
     "execution_count": 11,
     "metadata": {},
     "output_type": "execute_result"
    }
   ],
   "source": [
    "authority_data.dtypes"
   ]
  },
  {
   "cell_type": "markdown",
   "metadata": {},
   "source": [
    "Is *road_usage* an object or string?"
   ]
  },
  {
   "cell_type": "code",
   "execution_count": 12,
   "metadata": {},
   "outputs": [
    {
     "data": {
      "text/plain": [
       "..        3258\n",
       "1745.0     207\n",
       "1287.0     131\n",
       "4208.0     121\n",
       "1997.0     118\n",
       "553.0      114\n",
       "4851.0     108\n",
       "862.0       98\n",
       "3563.0      96\n",
       "1895.0      83\n",
       "Name: road_usage, dtype: int64"
      ]
     },
     "execution_count": 12,
     "metadata": {},
     "output_type": "execute_result"
    }
   ],
   "source": [
    "# count values to show what's wrong with road_usage\n",
    "authority_data['road_usage'].value_counts()[:10]"
   ]
  },
  {
   "cell_type": "markdown",
   "metadata": {},
   "source": [
    "Indeed, it's a mix object. Let's change *road_usage* into numerical because it is more useful."
   ]
  },
  {
   "cell_type": "code",
   "execution_count": 13,
   "metadata": {},
   "outputs": [],
   "source": [
    "# let's change that into NA values for now so we can change the datatype into float. We will treat missing values later.\n",
    "authority_data.loc[authority_data['road_usage'] == '..', 'road_usage'] = np.nan\n",
    "authority_data.loc[:, 'road_usage'] = authority_data['road_usage'].astype('float64')"
   ]
  },
  {
   "cell_type": "markdown",
   "metadata": {},
   "source": [
    "All datasets look good and ready to be combine into one large dataframe. Let the fun begins!"
   ]
  },
  {
   "cell_type": "code",
   "execution_count": 14,
   "metadata": {},
   "outputs": [],
   "source": [
    "# merge all 3 datasets together into a big dataframe.\n",
    "df = postcode_prices.merge(postcode_data).merge(authority_data)"
   ]
  },
  {
   "cell_type": "code",
   "execution_count": 15,
   "metadata": {},
   "outputs": [
    {
     "data": {
      "text/plain": [
       "postcode_sector                    0\n",
       "premium_price                      0\n",
       "relative_area                      0\n",
       "population_density                 0\n",
       "multiple_deprivation_index         0\n",
       "income_deprivation_index           0\n",
       "employment_deprivation_index       0\n",
       "crime_deprivation_index            0\n",
       "rural_urban                        0\n",
       "distance_to_station                0\n",
       "never_worked                       0\n",
       "region                             0\n",
       "total_accidents                    0\n",
       "road_usage                      3113\n",
       "total_offences                   832\n",
       "vehicle_offences                 832\n",
       "dtype: int64"
      ]
     },
     "execution_count": 15,
     "metadata": {},
     "output_type": "execute_result"
    }
   ],
   "source": [
    "# check for missing values\n",
    "df.isnull().sum()"
   ]
  },
  {
   "cell_type": "markdown",
   "metadata": {},
   "source": [
    "There are some missing values in the final dataframe, but that's okay. We have 2 choices here:\n",
    "1. we can remove them and forget about them. (not the best)\n",
    "2. we can use some imputation techniques to fill in the blanks. (let's try this)"
   ]
  },
  {
   "cell_type": "code",
   "execution_count": 16,
   "metadata": {},
   "outputs": [
    {
     "data": {
      "text/plain": [
       "postcode_sector                  object\n",
       "premium_price                   float64\n",
       "relative_area                   float64\n",
       "population_density              float64\n",
       "multiple_deprivation_index      float64\n",
       "income_deprivation_index        float64\n",
       "employment_deprivation_index    float64\n",
       "crime_deprivation_index         float64\n",
       "rural_urban                      object\n",
       "distance_to_station             float64\n",
       "never_worked                     object\n",
       "region                           object\n",
       "total_accidents                   int64\n",
       "road_usage                      float64\n",
       "total_offences                  float64\n",
       "vehicle_offences                float64\n",
       "dtype: object"
      ]
     },
     "execution_count": 16,
     "metadata": {},
     "output_type": "execute_result"
    }
   ],
   "source": [
    "# make sure dtype for all columns make sense\n",
    "df.dtypes"
   ]
  },
  {
   "cell_type": "code",
   "execution_count": 17,
   "metadata": {},
   "outputs": [
    {
     "data": {
      "text/plain": [
       "Text(0.5, 0, 'road usage')"
      ]
     },
     "execution_count": 17,
     "metadata": {},
     "output_type": "execute_result"
    },
    {
     "data": {
      "image/png": "[encoded data removed]",
      "text/plain": [
       "<Figure size 432x288 with 1 Axes>"
      ]
     },
     "metadata": {
      "needs_background": "light"
     },
     "output_type": "display_data"
    }
   ],
   "source": [
    "# plot histogram for road usage\n",
    "df['road_usage'].hist(bins=50)\n",
    "plt.ylabel('counts')\n",
    "plt.xlabel('road usage')"
   ]
  },
  {
   "cell_type": "code",
   "execution_count": 18,
   "metadata": {},
   "outputs": [
    {
     "data": {
      "text/plain": [
       "Text(0.5, 0, 'premium price')"
      ]
     },
     "execution_count": 18,
     "metadata": {},
     "output_type": "execute_result"
    },
    {
     "data": {
      "image/png": "[encoded data removed]",
      "text/plain": [
       "<Figure size 432x288 with 1 Axes>"
      ]
     },
     "metadata": {
      "needs_background": "light"
     },
     "output_type": "display_data"
    }
   ],
   "source": [
    "# plot histogram for premium prices\n",
    "df['premium_price'].hist(bins=25)\n",
    "plt.ylabel('counts')\n",
    "plt.xlabel('premium price')"
   ]
  },
  {
   "cell_type": "markdown",
   "metadata": {},
   "source": [
    "It is a skewed distribution with a long tail. This is expected because some premiums are just very high! The distribution shouldn't our further analysis but it is good to know."
   ]
  },
  {
   "cell_type": "code",
   "execution_count": 19,
   "metadata": {},
   "outputs": [
    {
     "data": {
      "text/html": [
       "<div>\n",
       "<style scoped>\n",
       "    .dataframe tbody tr th:only-of-type {\n",
       "        vertical-align: middle;\n",
       "    }\n",
       "\n",
       "    .dataframe tbody tr th {\n",
       "        vertical-align: top;\n",
       "    }\n",
       "\n",
       "    .dataframe thead th {\n",
       "        text-align: right;\n",
       "    }\n",
       "</style>\n",
       "<table border=\"1\" class=\"dataframe\">\n",
       "  <thead>\n",
       "    <tr style=\"text-align: right;\">\n",
       "      <th></th>\n",
       "      <th>premium_price</th>\n",
       "      <th>relative_area</th>\n",
       "      <th>population_density</th>\n",
       "      <th>multiple_deprivation_index</th>\n",
       "      <th>income_deprivation_index</th>\n",
       "      <th>employment_deprivation_index</th>\n",
       "      <th>crime_deprivation_index</th>\n",
       "      <th>distance_to_station</th>\n",
       "      <th>total_accidents</th>\n",
       "      <th>road_usage</th>\n",
       "      <th>total_offences</th>\n",
       "      <th>vehicle_offences</th>\n",
       "    </tr>\n",
       "  </thead>\n",
       "  <tbody>\n",
       "    <tr>\n",
       "      <th>premium_price</th>\n",
       "      <td>1.000000</td>\n",
       "      <td>-0.260743</td>\n",
       "      <td>0.323083</td>\n",
       "      <td>0.485858</td>\n",
       "      <td>0.476445</td>\n",
       "      <td>0.403787</td>\n",
       "      <td>0.496826</td>\n",
       "      <td>-0.273117</td>\n",
       "      <td>0.215293</td>\n",
       "      <td>-0.120473</td>\n",
       "      <td>0.326986</td>\n",
       "      <td>0.385635</td>\n",
       "    </tr>\n",
       "    <tr>\n",
       "      <th>relative_area</th>\n",
       "      <td>-0.260743</td>\n",
       "      <td>1.000000</td>\n",
       "      <td>-0.274932</td>\n",
       "      <td>-0.179443</td>\n",
       "      <td>-0.230823</td>\n",
       "      <td>-0.210289</td>\n",
       "      <td>-0.284915</td>\n",
       "      <td>0.529433</td>\n",
       "      <td>-0.220070</td>\n",
       "      <td>0.135035</td>\n",
       "      <td>-0.191235</td>\n",
       "      <td>-0.232089</td>\n",
       "    </tr>\n",
       "    <tr>\n",
       "      <th>population_density</th>\n",
       "      <td>0.323083</td>\n",
       "      <td>-0.274932</td>\n",
       "      <td>1.000000</td>\n",
       "      <td>0.262289</td>\n",
       "      <td>0.270248</td>\n",
       "      <td>0.184088</td>\n",
       "      <td>0.372446</td>\n",
       "      <td>-0.284833</td>\n",
       "      <td>0.355646</td>\n",
       "      <td>-0.119724</td>\n",
       "      <td>0.264317</td>\n",
       "      <td>0.309377</td>\n",
       "    </tr>\n",
       "    <tr>\n",
       "      <th>multiple_deprivation_index</th>\n",
       "      <td>0.485858</td>\n",
       "      <td>-0.179443</td>\n",
       "      <td>0.262289</td>\n",
       "      <td>1.000000</td>\n",
       "      <td>0.968844</td>\n",
       "      <td>0.949995</td>\n",
       "      <td>0.717229</td>\n",
       "      <td>-0.177262</td>\n",
       "      <td>-0.048281</td>\n",
       "      <td>-0.073595</td>\n",
       "      <td>0.358721</td>\n",
       "      <td>0.290754</td>\n",
       "    </tr>\n",
       "    <tr>\n",
       "      <th>income_deprivation_index</th>\n",
       "      <td>0.476445</td>\n",
       "      <td>-0.230823</td>\n",
       "      <td>0.270248</td>\n",
       "      <td>0.968844</td>\n",
       "      <td>1.000000</td>\n",
       "      <td>0.967447</td>\n",
       "      <td>0.673442</td>\n",
       "      <td>-0.206737</td>\n",
       "      <td>-0.017852</td>\n",
       "      <td>-0.083907</td>\n",
       "      <td>0.324491</td>\n",
       "      <td>0.289546</td>\n",
       "    </tr>\n",
       "    <tr>\n",
       "      <th>employment_deprivation_index</th>\n",
       "      <td>0.403787</td>\n",
       "      <td>-0.210289</td>\n",
       "      <td>0.184088</td>\n",
       "      <td>0.949995</td>\n",
       "      <td>0.967447</td>\n",
       "      <td>1.000000</td>\n",
       "      <td>0.597311</td>\n",
       "      <td>-0.170333</td>\n",
       "      <td>-0.137753</td>\n",
       "      <td>-0.069377</td>\n",
       "      <td>0.265501</td>\n",
       "      <td>0.186337</td>\n",
       "    </tr>\n",
       "    <tr>\n",
       "      <th>crime_deprivation_index</th>\n",
       "      <td>0.496826</td>\n",
       "      <td>-0.284915</td>\n",
       "      <td>0.372446</td>\n",
       "      <td>0.717229</td>\n",
       "      <td>0.673442</td>\n",
       "      <td>0.597311</td>\n",
       "      <td>1.000000</td>\n",
       "      <td>-0.327065</td>\n",
       "      <td>0.200618</td>\n",
       "      <td>-0.085151</td>\n",
       "      <td>0.364330</td>\n",
       "      <td>0.388658</td>\n",
       "    </tr>\n",
       "    <tr>\n",
       "      <th>distance_to_station</th>\n",
       "      <td>-0.273117</td>\n",
       "      <td>0.529433</td>\n",
       "      <td>-0.284833</td>\n",
       "      <td>-0.177262</td>\n",
       "      <td>-0.206737</td>\n",
       "      <td>-0.170333</td>\n",
       "      <td>-0.327065</td>\n",
       "      <td>1.000000</td>\n",
       "      <td>-0.292943</td>\n",
       "      <td>0.143848</td>\n",
       "      <td>-0.189245</td>\n",
       "      <td>-0.248066</td>\n",
       "    </tr>\n",
       "    <tr>\n",
       "      <th>total_accidents</th>\n",
       "      <td>0.215293</td>\n",
       "      <td>-0.220070</td>\n",
       "      <td>0.355646</td>\n",
       "      <td>-0.048281</td>\n",
       "      <td>-0.017852</td>\n",
       "      <td>-0.137753</td>\n",
       "      <td>0.200618</td>\n",
       "      <td>-0.292943</td>\n",
       "      <td>1.000000</td>\n",
       "      <td>-0.130150</td>\n",
       "      <td>0.064824</td>\n",
       "      <td>0.297079</td>\n",
       "    </tr>\n",
       "    <tr>\n",
       "      <th>road_usage</th>\n",
       "      <td>-0.120473</td>\n",
       "      <td>0.135035</td>\n",
       "      <td>-0.119724</td>\n",
       "      <td>-0.073595</td>\n",
       "      <td>-0.083907</td>\n",
       "      <td>-0.069377</td>\n",
       "      <td>-0.085151</td>\n",
       "      <td>0.143848</td>\n",
       "      <td>-0.130150</td>\n",
       "      <td>1.000000</td>\n",
       "      <td>0.105643</td>\n",
       "      <td>0.030812</td>\n",
       "    </tr>\n",
       "    <tr>\n",
       "      <th>total_offences</th>\n",
       "      <td>0.326986</td>\n",
       "      <td>-0.191235</td>\n",
       "      <td>0.264317</td>\n",
       "      <td>0.358721</td>\n",
       "      <td>0.324491</td>\n",
       "      <td>0.265501</td>\n",
       "      <td>0.364330</td>\n",
       "      <td>-0.189245</td>\n",
       "      <td>0.064824</td>\n",
       "      <td>0.105643</td>\n",
       "      <td>1.000000</td>\n",
       "      <td>0.876646</td>\n",
       "    </tr>\n",
       "    <tr>\n",
       "      <th>vehicle_offences</th>\n",
       "      <td>0.385635</td>\n",
       "      <td>-0.232089</td>\n",
       "      <td>0.309377</td>\n",
       "      <td>0.290754</td>\n",
       "      <td>0.289546</td>\n",
       "      <td>0.186337</td>\n",
       "      <td>0.388658</td>\n",
       "      <td>-0.248066</td>\n",
       "      <td>0.297079</td>\n",
       "      <td>0.030812</td>\n",
       "      <td>0.876646</td>\n",
       "      <td>1.000000</td>\n",
       "    </tr>\n",
       "  </tbody>\n",
       "</table>\n",
       "</div>"
      ],
      "text/plain": [
       "                              premium_price  relative_area  \\\n",
       "premium_price                      1.000000      -0.260743   \n",
       "relative_area                     -0.260743       1.000000   \n",
       "population_density                 0.323083      -0.274932   \n",
       "multiple_deprivation_index         0.485858      -0.179443   \n",
       "income_deprivation_index           0.476445      -0.230823   \n",
       "employment_deprivation_index       0.403787      -0.210289   \n",
       "crime_deprivation_index            0.496826      -0.284915   \n",
       "distance_to_station               -0.273117       0.529433   \n",
       "total_accidents                    0.215293      -0.220070   \n",
       "road_usage                        -0.120473       0.135035   \n",
       "total_offences                     0.326986      -0.191235   \n",
       "vehicle_offences                   0.385635      -0.232089   \n",
       "\n",
       "                              population_density  multiple_deprivation_index  \\\n",
       "premium_price                           0.323083                    0.485858   \n",
       "relative_area                          -0.274932                   -0.179443   \n",
       "population_density                      1.000000                    0.262289   \n",
       "multiple_deprivation_index              0.262289                    1.000000   \n",
       "income_deprivation_index                0.270248                    0.968844   \n",
       "employment_deprivation_index            0.184088                    0.949995   \n",
       "crime_deprivation_index                 0.372446                    0.717229   \n",
       "distance_to_station                    -0.284833                   -0.177262   \n",
       "total_accidents                         0.355646                   -0.048281   \n",
       "road_usage                             -0.119724                   -0.073595   \n",
       "total_offences                          0.264317                    0.358721   \n",
       "vehicle_offences                        0.309377                    0.290754   \n",
       "\n",
       "                              income_deprivation_index  \\\n",
       "premium_price                                 0.476445   \n",
       "relative_area                                -0.230823   \n",
       "population_density                            0.270248   \n",
       "multiple_deprivation_index                    0.968844   \n",
       "income_deprivation_index                      1.000000   \n",
       "employment_deprivation_index                  0.967447   \n",
       "crime_deprivation_index                       0.673442   \n",
       "distance_to_station                          -0.206737   \n",
       "total_accidents                              -0.017852   \n",
       "road_usage                                   -0.083907   \n",
       "total_offences                                0.324491   \n",
       "vehicle_offences                              0.289546   \n",
       "\n",
       "                              employment_deprivation_index  \\\n",
       "premium_price                                     0.403787   \n",
       "relative_area                                    -0.210289   \n",
       "population_density                                0.184088   \n",
       "multiple_deprivation_index                        0.949995   \n",
       "income_deprivation_index                          0.967447   \n",
       "employment_deprivation_index                      1.000000   \n",
       "crime_deprivation_index                           0.597311   \n",
       "distance_to_station                              -0.170333   \n",
       "total_accidents                                  -0.137753   \n",
       "road_usage                                       -0.069377   \n",
       "total_offences                                    0.265501   \n",
       "vehicle_offences                                  0.186337   \n",
       "\n",
       "                              crime_deprivation_index  distance_to_station  \\\n",
       "premium_price                                0.496826            -0.273117   \n",
       "relative_area                               -0.284915             0.529433   \n",
       "population_density                           0.372446            -0.284833   \n",
       "multiple_deprivation_index                   0.717229            -0.177262   \n",
       "income_deprivation_index                     0.673442            -0.206737   \n",
       "employment_deprivation_index                 0.597311            -0.170333   \n",
       "crime_deprivation_index                      1.000000            -0.327065   \n",
       "distance_to_station                         -0.327065             1.000000   \n",
       "total_accidents                              0.200618            -0.292943   \n",
       "road_usage                                  -0.085151             0.143848   \n",
       "total_offences                               0.364330            -0.189245   \n",
       "vehicle_offences                             0.388658            -0.248066   \n",
       "\n",
       "                              total_accidents  road_usage  total_offences  \\\n",
       "premium_price                        0.215293   -0.120473        0.326986   \n",
       "relative_area                       -0.220070    0.135035       -0.191235   \n",
       "population_density                   0.355646   -0.119724        0.264317   \n",
       "multiple_deprivation_index          -0.048281   -0.073595        0.358721   \n",
       "income_deprivation_index            -0.017852   -0.083907        0.324491   \n",
       "employment_deprivation_index        -0.137753   -0.069377        0.265501   \n",
       "crime_deprivation_index              0.200618   -0.085151        0.364330   \n",
       "distance_to_station                 -0.292943    0.143848       -0.189245   \n",
       "total_accidents                      1.000000   -0.130150        0.064824   \n",
       "road_usage                          -0.130150    1.000000        0.105643   \n",
       "total_offences                       0.064824    0.105643        1.000000   \n",
       "vehicle_offences                     0.297079    0.030812        0.876646   \n",
       "\n",
       "                              vehicle_offences  \n",
       "premium_price                         0.385635  \n",
       "relative_area                        -0.232089  \n",
       "population_density                    0.309377  \n",
       "multiple_deprivation_index            0.290754  \n",
       "income_deprivation_index              0.289546  \n",
       "employment_deprivation_index          0.186337  \n",
       "crime_deprivation_index               0.388658  \n",
       "distance_to_station                  -0.248066  \n",
       "total_accidents                       0.297079  \n",
       "road_usage                            0.030812  \n",
       "total_offences                        0.876646  \n",
       "vehicle_offences                      1.000000  "
      ]
     },
     "execution_count": 19,
     "metadata": {},
     "output_type": "execute_result"
    }
   ],
   "source": [
    "# check for any potential correlation with premium prices\n",
    "df.corr()"
   ]
  },
  {
   "cell_type": "markdown",
   "metadata": {},
   "source": [
    "From above, we can see that premium prices are related to deprivation indexes such as crime, income, employment, etc... It also has some weaker correlations with other factors as well. \n",
    "\n",
    "Interesting observation is that some factors are also correlated with each other. This is important because **multicollinearity** within the features will affect our further analysis or model."
   ]
  },
  {
   "cell_type": "code",
   "execution_count": 20,
   "metadata": {},
   "outputs": [
    {
     "data": {
      "text/plain": [
       "<matplotlib.axes._subplots.AxesSubplot at 0x28700230ac8>"
      ]
     },
     "execution_count": 20,
     "metadata": {},
     "output_type": "execute_result"
    },
    {
     "data": {
      "image/png": "[encoded data removed]",
      "text/plain": [
       "<Figure size 432x288 with 1 Axes>"
      ]
     },
     "metadata": {
      "needs_background": "light"
     },
     "output_type": "display_data"
    }
   ],
   "source": [
    "# plot premium prices against crime deprivation index\n",
    "sns.scatterplot(data=df, x='crime_deprivation_index', y='premium_price')"
   ]
  },
  {
   "cell_type": "markdown",
   "metadata": {},
   "source": [
    "The figure above show some positive trend between *premium_price* and *crime_deprivation_index*. Also, we see lots of noise in the data!"
   ]
  },
  {
   "cell_type": "code",
   "execution_count": 21,
   "metadata": {},
   "outputs": [
    {
     "data": {
      "text/plain": [
       "<matplotlib.axes._subplots.AxesSubplot at 0x28700216a58>"
      ]
     },
     "execution_count": 21,
     "metadata": {},
     "output_type": "execute_result"
    },
    {
     "data": {
      "image/png": "[encoded data removed]",
      "text/plain": [
       "<Figure size 1296x360 with 1 Axes>"
      ]
     },
     "metadata": {
      "needs_background": "light"
     },
     "output_type": "display_data"
    }
   ],
   "source": [
    "# plot premium prices in region.\n",
    "plt.figure(figsize=(18,5))\n",
    "sns.boxplot(data=df, x='region', y='premium_price')"
   ]
  },
  {
   "cell_type": "markdown",
   "metadata": {},
   "source": [
    "There are some price variations across different regions which show that region can be a predictive feature. Some outliers can also be observed.\n",
    "\n",
    "With these observations in mind, let's move on to modelling!"
   ]
  },
  {
   "cell_type": "markdown",
   "metadata": {},
   "source": [
    "## Data preparation"
   ]
  },
  {
   "cell_type": "markdown",
   "metadata": {},
   "source": [
    "We will assume that *postcode_sector* has minimal predictive power because it is just an unique identifier in this case. We will drop it."
   ]
  },
  {
   "cell_type": "code",
   "execution_count": 22,
   "metadata": {},
   "outputs": [],
   "source": [
    "# drop postcode_sector\n",
    "df.drop(['postcode_sector'], axis=1, inplace=True)"
   ]
  },
  {
   "cell_type": "code",
   "execution_count": 23,
   "metadata": {},
   "outputs": [],
   "source": [
    "# Encode categorical data into numerical\n",
    "df = pd.get_dummies(df)"
   ]
  },
  {
   "cell_type": "markdown",
   "metadata": {},
   "source": [
    "## Regression models"
   ]
  },
  {
   "cell_type": "code",
   "execution_count": 24,
   "metadata": {},
   "outputs": [],
   "source": [
    "from sklearn.dummy import DummyRegressor\n",
    "from sklearn.linear_model import ElasticNet\n",
    "from sklearn.svm import SVR\n",
    "from sklearn.pipeline import make_pipeline\n",
    "from sklearn.preprocessing import MinMaxScaler, StandardScaler\n",
    "from sklearn.metrics import mean_squared_error\n",
    "from sklearn.impute import SimpleImputer\n",
    "from sklearn.model_selection import train_test_split\n",
    "\n",
    "import scipy.stats as stats"
   ]
  },
  {
   "cell_type": "code",
   "execution_count": 25,
   "metadata": {},
   "outputs": [],
   "source": [
    "# define a function to evaluate model.\n",
    "def evaluate(model, X_train, y_train, X_test, y_test):\n",
    "    # Evaluate regression model using R2 for goodness of fit and MSE for test validation.\n",
    "    print(f'R2: {model.score(X_train, y_train)}')\n",
    "    \n",
    "    y_pred = model.predict(X_test)\n",
    "    print(f'MSE: {mean_squared_error(y_test, y_pred)}')\n",
    "    \n",
    "    # plot actual against predicted.\n",
    "    sns.regplot(x=y_test, y=y_pred)\n",
    "    plt.xlabel('actual')\n",
    "    plt.ylabel('predicted')\n",
    "    plt.show()\n",
    "    \n",
    "    # plot qq plot of residual.\n",
    "    residuals = y_test - y_pred\n",
    "    stats.probplot(residuals, dist=\"norm\", plot=plt)\n",
    "    plt.show()"
   ]
  },
  {
   "cell_type": "code",
   "execution_count": 26,
   "metadata": {},
   "outputs": [],
   "source": [
    "# split data into features and target\n",
    "X = df.drop(['premium_price'], axis=1)\n",
    "y = df['premium_price']"
   ]
  },
  {
   "cell_type": "code",
   "execution_count": 27,
   "metadata": {},
   "outputs": [],
   "source": [
    "# split data into train and test\n",
    "train_test_ratio = 0.75\n",
    "X_train, X_test, y_train, y_test = train_test_split(X, y, train_size=train_test_ratio, test_size=1-train_test_ratio)"
   ]
  },
  {
   "cell_type": "markdown",
   "metadata": {},
   "source": [
    "### Baseline model\n",
    "Let's set up a baseline model by taking the mean value of the target. We will compare our regression models against this baseline. Hopefully, they will do better than this dummy model."
   ]
  },
  {
   "cell_type": "code",
   "execution_count": 28,
   "metadata": {},
   "outputs": [
    {
     "name": "stdout",
     "output_type": "stream",
     "text": [
      "R2: 0.0\n",
      "MSE: 153401.68285265556\n"
     ]
    },
    {
     "data": {
      "image/png": "[encoded data removed]",
      "text/plain": [
       "<Figure size 432x288 with 1 Axes>"
      ]
     },
     "metadata": {
      "needs_background": "light"
     },
     "output_type": "display_data"
    },
    {
     "data": {
      "image/png": "[encoded data removed]",
      "text/plain": [
       "<Figure size 432x288 with 1 Axes>"
      ]
     },
     "metadata": {
      "needs_background": "light"
     },
     "output_type": "display_data"
    }
   ],
   "source": [
    "baseline = make_pipeline(DummyRegressor())\n",
    "baseline.fit(X_train, y_train)\n",
    "evaluate(baseline, X_train, y_train, X_test, y_test)"
   ]
  },
  {
   "cell_type": "markdown",
   "metadata": {},
   "source": [
    "### ElasticNet Linear Regression\n",
    "This regression technique applies l1 and l2 regularization to the model in order to reduce the effect of multicollinearity. In this case study, we will include several steps in the modelling:\n",
    "1. Apply mean imputation to all numerical data points that are missing - SimpleImputer()\n",
    "2. Scale the data - StandardScaler()\n",
    "3. Fit data to the model - ElasticNet()"
   ]
  },
  {
   "cell_type": "code",
   "execution_count": 29,
   "metadata": {},
   "outputs": [
    {
     "name": "stdout",
     "output_type": "stream",
     "text": [
      "R2: 0.38224827500818326\n",
      "MSE: 98481.09057616653\n"
     ]
    },
    {
     "data": {
      "image/png": "[encoded data removed]",
      "text/plain": [
       "<Figure size 432x288 with 1 Axes>"
      ]
     },
     "metadata": {
      "needs_background": "light"
     },
     "output_type": "display_data"
    },
    {
     "data": {
      "image/png": "[encoded data removed]",
      "text/plain": [
       "<Figure size 432x288 with 1 Axes>"
      ]
     },
     "metadata": {
      "needs_background": "light"
     },
     "output_type": "display_data"
    }
   ],
   "source": [
    "# make a pipeline for the model.\n",
    "LR = make_pipeline(SimpleImputer(), StandardScaler(), ElasticNet(alpha=0.9, l1_ratio=0.7, random_state=1234))\n",
    "\n",
    "# fit the data to the model\n",
    "LR.fit(X_train, y_train)\n",
    "\n",
    "# evalutate the model\n",
    "evaluate(LR, X_train, y_train, X_test, y_test)"
   ]
  },
  {
   "cell_type": "code",
   "execution_count": 30,
   "metadata": {},
   "outputs": [],
   "source": [
    "# display the coefficients for the LR model.\n",
    "coeff = list(zip(X_train.columns, abs(LR.steps[-1][1].coef_)))\n",
    "coeff = sorted(coeff, key=lambda x:x[1], reverse=True)"
   ]
  },
  {
   "cell_type": "code",
   "execution_count": 31,
   "metadata": {},
   "outputs": [
    {
     "data": {
      "text/plain": [
       "[('crime_deprivation_index', 47.75576672580031),\n",
       " ('multiple_deprivation_index', 42.14121207935815),\n",
       " ('population_density', 41.80033753322178),\n",
       " ('rural_urban_Urban major conurbation', 30.653346032312104),\n",
       " ('vehicle_offences', 30.636044207222163)]"
      ]
     },
     "execution_count": 31,
     "metadata": {},
     "output_type": "execute_result"
    }
   ],
   "source": [
    "# top 5 factors\n",
    "coeff[:5]"
   ]
  },
  {
   "cell_type": "code",
   "execution_count": 32,
   "metadata": {},
   "outputs": [
    {
     "data": {
      "text/plain": [
       "[('rural_urban_Other urban area', 0.0),\n",
       " ('rural_urban_Rural hamlet and isolated dwellings in a sparse setting', 0.0),\n",
       " ('rural_urban_Urban minor conurbation', 0.0),\n",
       " (\"rural_urban_['Rural hamlet and isolated dwellings in a sparse setting'\\n 'Rural village in a sparse setting']\",\n",
       "  0.0),\n",
       " (\"rural_urban_['Rural hamlet and isolated dwellings' 'Urban major conurbation']\",\n",
       "  0.0)]"
      ]
     },
     "execution_count": 32,
     "metadata": {},
     "output_type": "execute_result"
    }
   ],
   "source": [
    "# bottom 5 factors\n",
    "coeff[-5:]"
   ]
  },
  {
   "cell_type": "markdown",
   "metadata": {},
   "source": [
    "### Support Vector Regressor\n",
    "This regression technique will help to explore any high dimesional relationships/correlations between the features and the target. The steps used here are very similar to the above linear regression model."
   ]
  },
  {
   "cell_type": "code",
   "execution_count": 33,
   "metadata": {},
   "outputs": [
    {
     "name": "stdout",
     "output_type": "stream",
     "text": [
      "R2: 0.36504638349534657\n",
      "MSE: 92765.78085733078\n"
     ]
    },
    {
     "data": {
      "image/png": "[encoded data removed]",
      "text/plain": [
       "<Figure size 432x288 with 1 Axes>"
      ]
     },
     "metadata": {
      "needs_background": "light"
     },
     "output_type": "display_data"
    },
    {
     "data": {
      "image/png": "[encoded data removed]",
      "text/plain": [
       "<Figure size 432x288 with 1 Axes>"
      ]
     },
     "metadata": {
      "needs_background": "light"
     },
     "output_type": "display_data"
    }
   ],
   "source": [
    "SV = make_pipeline(SimpleImputer(), MinMaxScaler(), SVR(C=500, gamma=0.01))\n",
    "SV.fit(X_train, y_train)\n",
    "evaluate(SV, X_train, y_train, X_test, y_test)"
   ]
  },
  {
   "cell_type": "markdown",
   "metadata": {},
   "source": [
    "## Evaluation\n",
    "\n",
    "We have cleaned the data and applied some imputation to missing numerical values. We proceeded to perform regression analysis.\n",
    "\n",
    "First and foremost, both ElasticNet and Support Vector machines outperformed our baseline model. However, there are some concerns with the models we created. \n",
    "\n",
    "The R2 for the ElasticNet model is not great. This shows that this model did not fit very well to the training data. The residual qq-plot clearly shows that it violates the main assumption of normally distributed residual. This leads us to try non-linear model.\n",
    "\n",
    "The R2 for the support vector regression is still not great, but the mean square error (MSE) is better than ElasticNet.\n",
    "\n",
    "There are clearly plenty of room for improvements. Further steps can include (ordered in highest priority):\n",
    "1. Run statistical tests like F-test to check the overall significance of the regression model.\n",
    "2. Hyperparameter tunning.\n",
    "3. Reduce outliers and noises in the data. \n",
    "4. Feature engineering (get more features - such as accident by postcode sector) and extraction (such as PCA)."
   ]
  },
  {
   "cell_type": "code",
   "execution_count": null,
   "metadata": {},
   "outputs": [],
   "source": []
  }
 ],
 "metadata": {
  "kernelspec": {
   "display_name": "Python 3",
   "language": "python",
   "name": "python3"
  },
  "language_info": {
   "codemirror_mode": {
    "name": "ipython",
    "version": 3
   },
   "file_extension": ".py",
   "mimetype": "text/x-python",
   "name": "python",
   "nbconvert_exporter": "python",
   "pygments_lexer": "ipython3",
   "version": "3.7.3"
  }
 },
 "nbformat": 4,
 "nbformat_minor": 4
}
